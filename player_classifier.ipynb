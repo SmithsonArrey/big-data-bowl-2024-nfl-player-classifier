{
 "cells": [
  {
   "cell_type": "markdown",
   "metadata": {},
   "source": [
    "# Start of the Project\n",
    "Importing Libraries and Data\n",
    "Creating Essential DataFrames\n",
    "Defining Feature Engineering Functions"
   ]
  },
  {
   "cell_type": "code",
   "execution_count": 189,
   "metadata": {
    "collapsed": false,
    "jupyter": {
     "outputs_hidden": false
    }
   },
   "outputs": [],
   "source": [
    "import pandas as pd\n",
    "import numpy as np\n",
    "from sklearn.model_selection import train_test_split\n",
    "from sklearn.tree import DecisionTreeClassifier\n",
    "from sklearn.metrics import accuracy_score, classification_report, confusion_matrix, precision_score, recall_score\n",
    "#import matplotlib\n",
    "\n",
    "pd.set_option('display.max_columns', None)\n",
    "\n",
    "# Assuming the CSV files are in the same directory as your Python script or Jupyter Notebook\n",
    "\n",
    "# Import Game data\n",
    "games_data = pd.read_csv('nfl-big-data-bowl-2024/games.csv')\n",
    "\n",
    "# Import Play data\n",
    "plays_data = pd.read_csv('nfl-big-data-bowl-2024/plays.csv')\n",
    "\n",
    "# Import Player data\n",
    "players_data = pd.read_csv('nfl-big-data-bowl-2024/players.csv')\n",
    "\n",
    "# Import Tackles data\n",
    "tackles_data = pd.read_csv('nfl-big-data-bowl-2024/tackles.csv')\n",
    "\n",
    "tracking_data_1 = pd.read_csv(f'nfl-big-data-bowl-2024/tracking_week_1.csv')\n",
    "\n",
    "# Example for importing all weeks of Tracking data\n",
    "# Adjust the range based on the actual weeks in your dataset\n",
    "tracking_data_all_weeks = pd.concat([pd.read_csv(f'nfl-big-data-bowl-2024/tracking_week_{week}.csv') for week in range(1, 10)])\n",
    "\n",
    "# Now you can use these DataFrames in your analysis"
   ]
  },
  {
   "cell_type": "code",
   "execution_count": 176,
   "metadata": {},
   "outputs": [
    {
     "name": "stdout",
     "output_type": "stream",
     "text": [
      "Average speed for player with nflId 29550: 2.399963427377221 yards/second\n",
      "Average speed for player with nflId 29550: 143.99780564263324 yards/minute\n",
      "Normalized Aggression Score for player with nflId 29550: 0.00\n",
      "BMI for player with nflId 29550: 39.92\n"
     ]
    }
   ],
   "source": [
    "def calculate_average_speed(tracking_data, nflId):\n",
    "    # Filter tracking data for the specific player\n",
    "    player_tracking = tracking_data[tracking_data['nflId'] == nflId]\n",
    "    average_speed = player_tracking['s'].sum() / len(player_tracking['s'])\n",
    "    return average_speed\n",
    "\n",
    "# Example usage:\n",
    "# Assuming you have loaded the tracking data into a DataFrame named 'tracking_data'\n",
    "# and the player data into a DataFrame named 'player_data'\n",
    "\n",
    "# Replace 'your_nflId_here' with the actual nflId of the player you want to calculate the average speed for\n",
    "nflId_to_calculate = 29550\t  \n",
    "\n",
    "average_speed = calculate_average_speed(tracking_data_all_weeks, nflId_to_calculate)\n",
    "average_speed_min = average_speed * 60\n",
    "print(f\"Average speed for player with nflId {nflId_to_calculate}: {average_speed} yards/second\")\n",
    "print(f\"Average speed for player with nflId {nflId_to_calculate}: {average_speed_min} yards/minute\")\n",
    "\n",
    "def calculate_normalized_aggression_score(tackles_data, nflId):\n",
    "    # Filter tackles data for the specific player\n",
    "    player_tackles = tackles_data[tackles_data['nflId'] == nflId]\n",
    "\n",
    "    if len(player_tackles) == 0:\n",
    "        #print(f\"Player with nflId {nflId} not found in the tackles data.\") \n",
    "        return 0\n",
    "\n",
    "    # Calculate normalized aggression score based on tackles, assisted tackles, forced fumbles, and missed tackles\n",
    "    tackles = player_tackles['tackle'].sum()\n",
    "    assisted_tackles = player_tackles['assist'].sum()\n",
    "    forced_fumbles = player_tackles['forcedFumble'].sum()\n",
    "    missed_tackles = player_tackles['pff_missedTackle'].sum()\n",
    "\n",
    "    # Define a formula for the normalized aggression score (you can adjust the weights as needed)\n",
    "    aggression_score = (tackles + assisted_tackles + forced_fumbles -\n",
    "                        missed_tackles) / max(1, len(player_tackles))\n",
    "\n",
    "    return aggression_score\n",
    "\n",
    "\n",
    "# Example usage:\n",
    "# Assuming you have loaded the tackles data into a DataFrame named 'tackles_data'\n",
    "\n",
    "# Replace 'your_nflId_here' with the actual nflId of the player you want to calculate the normalized aggression score for\n",
    "nflId_to_calculate_aggression_score = 29550\n",
    "\n",
    "player_aggression_score = calculate_normalized_aggression_score(\n",
    "    tackles_data, nflId_to_calculate_aggression_score)\n",
    "if player_aggression_score is not None:\n",
    "    print(\n",
    "        f\"Normalized Aggression Score for player with nflId {nflId_to_calculate_aggression_score}: {player_aggression_score:.2f}\"\n",
    "    )\n",
    "\n",
    "def calculate_bmi(player_data, nflId):\n",
    "    # Filter player data for the specific player\n",
    "    player_info = player_data[player_data['nflId'] == nflId]\n",
    "\n",
    "    if len(player_info) == 0:\n",
    "        print(f\"Player with nflId {nflId} not found.\")\n",
    "        return None\n",
    "\n",
    "    # Extract weight and height\n",
    "    weight_kg = player_info['weight'].values[0] * 0.453592  # Convert pounds to kilograms\n",
    "    height_meters = convert_height_to_meters(player_info['height'].values[0])  # Convert feet and inches to meters\n",
    "\n",
    "    # Calculate BMI\n",
    "    bmi = weight_kg / (height_meters ** 2)\n",
    "\n",
    "    return bmi\n",
    "\n",
    "def convert_height_to_meters(height):\n",
    "    # Convert height from feet and inches to meters\n",
    "    feet, inches = map(int, height.split('-'))\n",
    "    height_meters = (feet * 12 + inches) * 0.0254  # 1 foot = 12 inches, 1 inch = 0.0254 meters\n",
    "    return height_meters\n",
    "\n",
    "# Example usage:\n",
    "# Assuming you have loaded the player data into a DataFrame named 'player_data'\n",
    "\n",
    "# Replace 'your_nflId_here' with the actual nflId of the player you want to calculate the BMI for\n",
    "nflId_to_calculate_bmi = 29550  \n",
    "\n",
    "player_bmi = calculate_bmi(players_data, nflId_to_calculate_bmi)\n",
    "if player_bmi is not None:\n",
    "    print(f\"BMI for player with nflId {nflId_to_calculate_bmi}: {player_bmi:.2f}\")"
   ]
  },
  {
   "cell_type": "markdown",
   "metadata": {},
   "source": [
    "# Category Rules\n",
    "i. No category should contain  less than 50 samples\n",
    "ii. Categories can merge if it is on the same team and if roles are similar\n",
    "iii. Offensive and Defensive categories should be balanced in number and equivalence\n",
    "iv. The resulting category name will generalize all members of the category"
   ]
  },
  {
   "cell_type": "code",
   "execution_count": null,
   "metadata": {},
   "outputs": [],
   "source": []
  },
  {
   "cell_type": "code",
   "execution_count": 194,
   "metadata": {},
   "outputs": [],
   "source": [
    "# grouping similar positions\n",
    "\n",
    "modified_players_data = players_data.copy()\n",
    "\n",
    "#Offensive Roles\n",
    "#merging RB and FB\n",
    "modified_players_data[\"position\"]=np.where(modified_players_data[\"position\"] == 'FB', 'RB', modified_players_data[\"position\"])\n",
    "#merging TE and LS\n",
    "modified_players_data[\"position\"]=np.where(modified_players_data[\"position\"] == 'LS', 'TE', modified_players_data[\"position\"])\n",
    "#merging C and G\n",
    "modified_players_data[\"position\"]=np.where(modified_players_data[\"position\"] == 'C', 'C-G', modified_players_data[\"position\"])\n",
    "modified_players_data[\"position\"]=np.where(modified_players_data[\"position\"] == 'G', 'C-G', modified_players_data[\"position\"])\n",
    "\n",
    "#Defensive Roles\n",
    "#merging DB and CB \n",
    "modified_players_data[\"position\"]=np.where(modified_players_data[\"position\"] == 'DB', 'CB', modified_players_data[\"position\"])\n",
    "#merging DE and OLB\n",
    "modified_players_data[\"position\"]=np.where(modified_players_data[\"position\"] == 'DE', 'DE-OLB', modified_players_data[\"position\"])\n",
    "modified_players_data[\"position\"]=np.where(modified_players_data[\"position\"] == 'OLB', 'DE-OLB', modified_players_data[\"position\"])\n",
    "#merging NT and DT \n",
    "modified_players_data[\"position\"]=np.where(modified_players_data[\"position\"] == 'NT', 'DT', modified_players_data[\"position\"])\n",
    "#merging SS and FS \n",
    "modified_players_data[\"position\"]=np.where(modified_players_data[\"position\"] == 'SS', 'S', modified_players_data[\"position\"])\n",
    "modified_players_data[\"position\"]=np.where(modified_players_data[\"position\"] == 'FS', 'S', modified_players_data[\"position\"])\n",
    "#merging ILB and MLB \n",
    "modified_players_data[\"position\"]=np.where(modified_players_data[\"position\"] == 'ILB', 'LB', modified_players_data[\"position\"])\n",
    "modified_players_data[\"position\"]=np.where(modified_players_data[\"position\"] == 'MLB', 'LB', modified_players_data[\"position\"])\n"
   ]
  },
  {
   "cell_type": "code",
   "execution_count": 195,
   "metadata": {},
   "outputs": [
    {
     "data": {
      "text/plain": [
       "position\n",
       "DE-OLB    265\n",
       "WR        218\n",
       "CB        192\n",
       "DT        158\n",
       "C-G       158\n",
       "S         142\n",
       "RB        138\n",
       "TE        126\n",
       "T         121\n",
       "LB        104\n",
       "QB         61\n",
       "Name: count, dtype: int64"
      ]
     },
     "execution_count": 195,
     "metadata": {},
     "output_type": "execute_result"
    }
   ],
   "source": [
    "modified_players_data['position'].value_counts()"
   ]
  },
  {
   "cell_type": "markdown",
   "metadata": {},
   "source": [
    "# Running the Model\n",
    "Defining the Feature Table\n",
    "Splitting into train and test datasets\n",
    "Running the Decision Tree Classifier"
   ]
  },
  {
   "cell_type": "code",
   "execution_count": 196,
   "metadata": {
    "collapsed": false,
    "jupyter": {
     "outputs_hidden": false
    }
   },
   "outputs": [
    {
     "data": {
      "text/html": [
       "<div>\n",
       "<style scoped>\n",
       "    .dataframe tbody tr th:only-of-type {\n",
       "        vertical-align: middle;\n",
       "    }\n",
       "\n",
       "    .dataframe tbody tr th {\n",
       "        vertical-align: top;\n",
       "    }\n",
       "\n",
       "    .dataframe thead th {\n",
       "        text-align: right;\n",
       "    }\n",
       "</style>\n",
       "<table border=\"1\" class=\"dataframe\">\n",
       "  <thead>\n",
       "    <tr style=\"text-align: right;\">\n",
       "      <th></th>\n",
       "      <th>nflId</th>\n",
       "      <th>BMI</th>\n",
       "      <th>Average Speed</th>\n",
       "      <th>Aggression Score</th>\n",
       "      <th>Passes Caught</th>\n",
       "      <th>Position</th>\n",
       "    </tr>\n",
       "  </thead>\n",
       "  <tbody>\n",
       "    <tr>\n",
       "      <th>0</th>\n",
       "      <td>25511</td>\n",
       "      <td>27.387557</td>\n",
       "      <td>0.0</td>\n",
       "      <td>0.0</td>\n",
       "      <td>0</td>\n",
       "      <td>QB</td>\n",
       "    </tr>\n",
       "    <tr>\n",
       "      <th>1</th>\n",
       "      <td>29550</td>\n",
       "      <td>39.924971</td>\n",
       "      <td>0.0</td>\n",
       "      <td>0.0</td>\n",
       "      <td>0</td>\n",
       "      <td>T</td>\n",
       "    </tr>\n",
       "    <tr>\n",
       "      <th>2</th>\n",
       "      <td>29851</td>\n",
       "      <td>28.887970</td>\n",
       "      <td>0.0</td>\n",
       "      <td>0.0</td>\n",
       "      <td>0</td>\n",
       "      <td>QB</td>\n",
       "    </tr>\n",
       "    <tr>\n",
       "      <th>3</th>\n",
       "      <td>30842</td>\n",
       "      <td>30.854606</td>\n",
       "      <td>0.0</td>\n",
       "      <td>0.0</td>\n",
       "      <td>1</td>\n",
       "      <td>TE</td>\n",
       "    </tr>\n",
       "    <tr>\n",
       "      <th>4</th>\n",
       "      <td>33084</td>\n",
       "      <td>26.413777</td>\n",
       "      <td>0.0</td>\n",
       "      <td>0.0</td>\n",
       "      <td>0</td>\n",
       "      <td>QB</td>\n",
       "    </tr>\n",
       "    <tr>\n",
       "      <th>...</th>\n",
       "      <td>...</td>\n",
       "      <td>...</td>\n",
       "      <td>...</td>\n",
       "      <td>...</td>\n",
       "      <td>...</td>\n",
       "      <td>...</td>\n",
       "    </tr>\n",
       "    <tr>\n",
       "      <th>1678</th>\n",
       "      <td>55200</td>\n",
       "      <td>30.739046</td>\n",
       "      <td>1.0</td>\n",
       "      <td>1.0</td>\n",
       "      <td>0</td>\n",
       "      <td>DT</td>\n",
       "    </tr>\n",
       "    <tr>\n",
       "      <th>1679</th>\n",
       "      <td>55212</td>\n",
       "      <td>31.193262</td>\n",
       "      <td>0.0</td>\n",
       "      <td>0.0</td>\n",
       "      <td>0</td>\n",
       "      <td>LB</td>\n",
       "    </tr>\n",
       "    <tr>\n",
       "      <th>1680</th>\n",
       "      <td>55239</td>\n",
       "      <td>38.517294</td>\n",
       "      <td>1.0</td>\n",
       "      <td>1.0</td>\n",
       "      <td>0</td>\n",
       "      <td>DT</td>\n",
       "    </tr>\n",
       "    <tr>\n",
       "      <th>1681</th>\n",
       "      <td>55240</td>\n",
       "      <td>24.407537</td>\n",
       "      <td>1.0</td>\n",
       "      <td>1.0</td>\n",
       "      <td>0</td>\n",
       "      <td>CB</td>\n",
       "    </tr>\n",
       "    <tr>\n",
       "      <th>1682</th>\n",
       "      <td>55241</td>\n",
       "      <td>35.949474</td>\n",
       "      <td>1.0</td>\n",
       "      <td>1.0</td>\n",
       "      <td>0</td>\n",
       "      <td>DT</td>\n",
       "    </tr>\n",
       "  </tbody>\n",
       "</table>\n",
       "<p>1683 rows × 6 columns</p>\n",
       "</div>"
      ],
      "text/plain": [
       "      nflId        BMI  Average Speed  Aggression Score  Passes Caught  \\\n",
       "0     25511  27.387557            0.0               0.0              0   \n",
       "1     29550  39.924971            0.0               0.0              0   \n",
       "2     29851  28.887970            0.0               0.0              0   \n",
       "3     30842  30.854606            0.0               0.0              1   \n",
       "4     33084  26.413777            0.0               0.0              0   \n",
       "...     ...        ...            ...               ...            ...   \n",
       "1678  55200  30.739046            1.0               1.0              0   \n",
       "1679  55212  31.193262            0.0               0.0              0   \n",
       "1680  55239  38.517294            1.0               1.0              0   \n",
       "1681  55240  24.407537            1.0               1.0              0   \n",
       "1682  55241  35.949474            1.0               1.0              0   \n",
       "\n",
       "     Position  \n",
       "0          QB  \n",
       "1           T  \n",
       "2          QB  \n",
       "3          TE  \n",
       "4          QB  \n",
       "...       ...  \n",
       "1678       DT  \n",
       "1679       LB  \n",
       "1680       DT  \n",
       "1681       CB  \n",
       "1682       DT  \n",
       "\n",
       "[1683 rows x 6 columns]"
      ]
     },
     "execution_count": 196,
     "metadata": {},
     "output_type": "execute_result"
    }
   ],
   "source": [
    "feature_table = pd.DataFrame()\n",
    "nflIds = modified_players_data[\"nflId\"]\n",
    "\n",
    "for id in nflIds:\n",
    "    player_bmi = calculate_bmi(modified_players_data, id)\n",
    "    player_aggression_score = calculate_normalized_aggression_score(tackles_data, id)\n",
    "    average_speed = calculate_average_speed(tracking_data_all_weeks, id)\n",
    "    passes_caught = count_passes_caught(plays_data, id)\n",
    "    player_position_index = modified_players_data.index[modified_players_data[\"nflId\"] == id]\n",
    "    player_position = modified_players_data.at[player_position_index.values[0], 'position']\n",
    "    new_data = pd.DataFrame(data={'nflId': [id],'BMI': [player_bmi],'Average Speed': [player_aggression_score],'Aggression Score': [player_aggression_score],'Passes Caught': [passes_caught],'Position': [player_position]})\n",
    "    # Concatenate the existing data with the new table\n",
    "    feature_table = pd.concat([feature_table, new_data], ignore_index=True)\n",
    "\n",
    "# Display the updated table\n",
    "feature_table \n"
   ]
  },
  {
   "cell_type": "code",
   "execution_count": 197,
   "metadata": {
    "collapsed": false,
    "jupyter": {
     "outputs_hidden": false
    }
   },
   "outputs": [
    {
     "name": "stdout",
     "output_type": "stream",
     "text": [
      "Accuracy: 0.56\n",
      "Classification Report:\n",
      "              precision    recall  f1-score   support\n",
      "\n",
      "         C-G       0.56      1.00      0.72        31\n",
      "          CB       0.55      0.62      0.58        37\n",
      "      DE-OLB       0.61      0.74      0.67        50\n",
      "          DT       0.89      0.78      0.83        32\n",
      "          LB       1.00      0.05      0.09        21\n",
      "          QB       0.55      0.43      0.48        14\n",
      "          RB       0.12      0.12      0.12        26\n",
      "           S       0.35      0.28      0.31        29\n",
      "           T       0.00      0.00      0.00        21\n",
      "          TE       0.47      0.47      0.47        34\n",
      "          WR       0.67      0.90      0.77        42\n",
      "\n",
      "    accuracy                           0.56       337\n",
      "   macro avg       0.52      0.49      0.46       337\n",
      "weighted avg       0.54      0.56      0.51       337\n",
      "\n",
      "Confusion Matrix:\n",
      "[[31  0  0  0  0  0  0  0  0  0  0]\n",
      " [ 0 23  0  0  0  2  0 10  0  0  2]\n",
      " [ 1  1 37  3  0  0  5  3  0  0  0]\n",
      " [ 2  0  5 25  0  0  0  0  0  0  0]\n",
      " [ 0  2 15  0  1  0  1  2  0  0  0]\n",
      " [ 0  0  0  0  0  6  3  0  0  0  5]\n",
      " [ 0  0  0  0  0  1  3  0  0 16  6]\n",
      " [ 0 16  4  0  0  1  0  8  0  0  0]\n",
      " [21  0  0  0  0  0  0  0  0  0  0]\n",
      " [ 0  0  0  0  0  0 12  0  0 16  6]\n",
      " [ 0  0  0  0  0  1  1  0  0  2 38]]\n",
      "Precision Score:\n",
      "0.5237459514121442\n",
      "Recall Score:\n",
      "0.48960535656529575\n",
      "<bound method DataFrame.sort_values of                          0\n",
      "BMI               0.579242\n",
      "Average Speed     0.002900\n",
      "Aggression Score  0.342781\n",
      "Passes Caught     0.075077>\n"
     ]
    },
    {
     "name": "stderr",
     "output_type": "stream",
     "text": [
      "/Users/smithsonarrey/miniconda3/envs/nfl_player_classifier/lib/python3.11/site-packages/sklearn/metrics/_classification.py:1469: UndefinedMetricWarning: Precision and F-score are ill-defined and being set to 0.0 in labels with no predicted samples. Use `zero_division` parameter to control this behavior.\n",
      "  _warn_prf(average, modifier, msg_start, len(result))\n",
      "/Users/smithsonarrey/miniconda3/envs/nfl_player_classifier/lib/python3.11/site-packages/sklearn/metrics/_classification.py:1469: UndefinedMetricWarning: Precision and F-score are ill-defined and being set to 0.0 in labels with no predicted samples. Use `zero_division` parameter to control this behavior.\n",
      "  _warn_prf(average, modifier, msg_start, len(result))\n",
      "/Users/smithsonarrey/miniconda3/envs/nfl_player_classifier/lib/python3.11/site-packages/sklearn/metrics/_classification.py:1469: UndefinedMetricWarning: Precision and F-score are ill-defined and being set to 0.0 in labels with no predicted samples. Use `zero_division` parameter to control this behavior.\n",
      "  _warn_prf(average, modifier, msg_start, len(result))\n",
      "/Users/smithsonarrey/miniconda3/envs/nfl_player_classifier/lib/python3.11/site-packages/sklearn/metrics/_classification.py:1469: UndefinedMetricWarning: Precision is ill-defined and being set to 0.0 in labels with no predicted samples. Use `zero_division` parameter to control this behavior.\n",
      "  _warn_prf(average, modifier, msg_start, len(result))\n"
     ]
    }
   ],
   "source": [
    "\n",
    "# Define features (X) and target variable (y)\n",
    "features = feature_table[['BMI', 'Average Speed', 'Aggression Score', 'Passes Caught']] \n",
    "target = feature_table['Position'] \n",
    "\n",
    "# Split the dataset into training and testing sets\n",
    "X_train, X_test, y_train, y_test = train_test_split(features, target, test_size=0.2, random_state=42)\n",
    "\n",
    "# Initialize the decision tree classifier\n",
    "classifier = DecisionTreeClassifier(max_depth=5, criterion='entropy', random_state=42)\n",
    "\n",
    "# Train the model\n",
    "classifier.fit(X_train, y_train)\n",
    "\n",
    "# Make predictions on the test set\n",
    "y_pred = classifier.predict(X_test)\n",
    "\n",
    "# Evaluate the model\n",
    "accuracy = accuracy_score(y_test, y_pred)\n",
    "print(f\"Accuracy: {accuracy:.2f}\")\n",
    "\n",
    "# Display classification report\n",
    "print(\"Classification Report:\")\n",
    "print(classification_report(y_test, y_pred))\n",
    "\n",
    "# Display Confusion Matrix\n",
    "print(\"Confusion Matrix:\")\n",
    "print(confusion_matrix(y_test, y_pred))\n",
    "\n",
    "# Display Precision Score\n",
    "print(\"Precision Score:\")\n",
    "print(precision_score(y_test, y_pred, average='macro'))\n",
    "\n",
    "# Display Recall Score\n",
    "print(\"Recall Score:\")\n",
    "print(recall_score(y_test, y_pred,average='macro'))\n",
    "\n",
    "# Display Feature Importances\n",
    "feature_importance = pd.DataFrame(classifier.feature_importances_ , index=features.columns).sort_values\n",
    "print(feature_importance)"
   ]
  },
  {
   "cell_type": "markdown",
   "metadata": {},
   "source": [
    "# Plotting the Results"
   ]
  },
  {
   "cell_type": "code",
   "execution_count": 181,
   "metadata": {},
   "outputs": [
    {
     "data": {
      "text/plain": [
       "array([[<Axes: title={'center': 'nflId'}>,\n",
       "        <Axes: title={'center': 'BMI'}>],\n",
       "       [<Axes: title={'center': 'Average Speed'}>,\n",
       "        <Axes: title={'center': 'Aggression Score'}>],\n",
       "       [<Axes: title={'center': 'Passes Caught'}>, <Axes: >]],\n",
       "      dtype=object)"
      ]
     },
     "execution_count": 181,
     "metadata": {},
     "output_type": "execute_result"
    },
    {
     "data": {
      "image/png": "[encoded data removed]",
      "text/plain": [
       "<Figure size 3000x3000 with 6 Axes>"
      ]
     },
     "metadata": {},
     "output_type": "display_data"
    }
   ],
   "source": [
    "feature_table.hist(bins=60, figsize=[30,30])"
   ]
  },
  {
   "cell_type": "code",
   "execution_count": 182,
   "metadata": {},
   "outputs": [
    {
     "data": {
      "text/plain": [
       "Position\n",
       "WR        218\n",
       "CB        192\n",
       "DT        158\n",
       "OLB       140\n",
       "RB        138\n",
       "TE        126\n",
       "DE-OLB    125\n",
       "T         121\n",
       "G         103\n",
       "LB         93\n",
       "FS         78\n",
       "S          64\n",
       "QB         61\n",
       "C-G        55\n",
       "MLB        11\n",
       "Name: count, dtype: int64"
      ]
     },
     "execution_count": 182,
     "metadata": {},
     "output_type": "execute_result"
    }
   ],
   "source": [
    "feature_table['Position'].value_counts()"
   ]
  },
  {
   "cell_type": "code",
   "execution_count": 184,
   "metadata": {},
   "outputs": [
    {
     "data": {
      "text/plain": [
       "position\n",
       "WR        218\n",
       "CB        192\n",
       "DT        158\n",
       "OLB       140\n",
       "RB        138\n",
       "TE        126\n",
       "DE-OLB    125\n",
       "T         121\n",
       "G         103\n",
       "LB         93\n",
       "FS         78\n",
       "S          64\n",
       "QB         61\n",
       "C-G        55\n",
       "MLB        11\n",
       "Name: count, dtype: int64"
      ]
     },
     "execution_count": 184,
     "metadata": {},
     "output_type": "execute_result"
    }
   ],
   "source": [
    "players_data['position'].value_counts()"
   ]
  },
  {
   "cell_type": "markdown",
   "metadata": {},
   "source": [
    "# Below this line is all Chat GPT Starter Code"
   ]
  },
  {
   "cell_type": "code",
   "execution_count": 67,
   "metadata": {
    "collapsed": false,
    "jupyter": {
     "outputs_hidden": false
    }
   },
   "outputs": [
    {
     "name": "stdout",
     "output_type": "stream",
     "text": [
      "Number of passes caught by player with ballCarrierId 33130: 2\n"
     ]
    }
   ],
   "source": [
    "def count_passes_caught(play_data, ball_carrier_id, pass_result='C'):\n",
    "    # Filter play data for completed passes where the specified player is the ball carrier\n",
    "    player_passes_caught = play_data[(play_data['ballCarrierId'] == ball_carrier_id) & (play_data['passResult'] == pass_result)]\n",
    "\n",
    "    # Count the number of passes caught\n",
    "    num_passes_caught = len(player_passes_caught)\n",
    "\n",
    "    return num_passes_caught\n",
    "\n",
    "# Example usage:\n",
    "# Assuming you have loaded the play data into a DataFrame named 'plays_data'\n",
    "\n",
    "# Replace 'your_ballCarrierId_here' with the actual ballCarrierId of the player you want to analyze\n",
    "ballCarrierId_to_analyze = 33130\t  \n",
    "\n",
    "passes_caught = count_passes_caught(plays_data, ballCarrierId_to_analyze)\n",
    "print(f\"Number of passes caught by player with ballCarrierId {ballCarrierId_to_analyze}: {passes_caught}\")\n"
   ]
  },
  {
   "cell_type": "code",
   "execution_count": 49,
   "metadata": {
    "collapsed": false,
    "jupyter": {
     "outputs_hidden": false
    }
   },
   "outputs": [
    {
     "ename": "TypeError",
     "evalue": "Could not convert string '2022-11-07 21:08:32.799999' to numeric",
     "output_type": "error",
     "traceback": [
      "\u001b[0;31m---------------------------------------------------------------------------\u001b[0m",
      "\u001b[0;31mTypeError\u001b[0m                                 Traceback (most recent call last)",
      "\u001b[1;32m/Users/smithsonarrey/Documents/CodeProjects/ML/NFL_Player_Classifier/big-data-bowl-2024-nfl-player-classifier/player_classifier.ipynb Cell 13\u001b[0m line \u001b[0;36m2\n\u001b[1;32m     <a href='vscode-notebook-cell:/Users/smithsonarrey/Documents/CodeProjects/ML/NFL_Player_Classifier/big-data-bowl-2024-nfl-player-classifier/player_classifier.ipynb#X10sZmlsZQ%3D%3D?line=16'>17</a>\u001b[0m \u001b[39m# Example usage:\u001b[39;00m\n\u001b[1;32m     <a href='vscode-notebook-cell:/Users/smithsonarrey/Documents/CodeProjects/ML/NFL_Player_Classifier/big-data-bowl-2024-nfl-player-classifier/player_classifier.ipynb#X10sZmlsZQ%3D%3D?line=17'>18</a>\u001b[0m \u001b[39m# Assuming you have loaded the play data into a DataFrame named 'plays_data'\u001b[39;00m\n\u001b[1;32m     <a href='vscode-notebook-cell:/Users/smithsonarrey/Documents/CodeProjects/ML/NFL_Player_Classifier/big-data-bowl-2024-nfl-player-classifier/player_classifier.ipynb#X10sZmlsZQ%3D%3D?line=18'>19</a>\u001b[0m \u001b[39m# and the tracking data into a DataFrame named 'tracking_data'\u001b[39;00m\n\u001b[1;32m     <a href='vscode-notebook-cell:/Users/smithsonarrey/Documents/CodeProjects/ML/NFL_Player_Classifier/big-data-bowl-2024-nfl-player-classifier/player_classifier.ipynb#X10sZmlsZQ%3D%3D?line=19'>20</a>\u001b[0m \n\u001b[1;32m     <a href='vscode-notebook-cell:/Users/smithsonarrey/Documents/CodeProjects/ML/NFL_Player_Classifier/big-data-bowl-2024-nfl-player-classifier/player_classifier.ipynb#X10sZmlsZQ%3D%3D?line=20'>21</a>\u001b[0m \u001b[39m# Replace 'your_nflId_here' with the actual nflId of the player you want to analyze\u001b[39;00m\n\u001b[1;32m     <a href='vscode-notebook-cell:/Users/smithsonarrey/Documents/CodeProjects/ML/NFL_Player_Classifier/big-data-bowl-2024-nfl-player-classifier/player_classifier.ipynb#X10sZmlsZQ%3D%3D?line=21'>22</a>\u001b[0m nflId_to_analyze_average_time \u001b[39m=\u001b[39m \u001b[39m33130\u001b[39m\n\u001b[0;32m---> <a href='vscode-notebook-cell:/Users/smithsonarrey/Documents/CodeProjects/ML/NFL_Player_Classifier/big-data-bowl-2024-nfl-player-classifier/player_classifier.ipynb#X10sZmlsZQ%3D%3D?line=23'>24</a>\u001b[0m average_time_per_game \u001b[39m=\u001b[39m calculate_average_time_per_game(plays_data, tracking_data_all_weeks, nflId_to_analyze_average_time)\n\u001b[1;32m     <a href='vscode-notebook-cell:/Users/smithsonarrey/Documents/CodeProjects/ML/NFL_Player_Classifier/big-data-bowl-2024-nfl-player-classifier/player_classifier.ipynb#X10sZmlsZQ%3D%3D?line=24'>25</a>\u001b[0m \u001b[39mif\u001b[39;00m average_time_per_game \u001b[39mis\u001b[39;00m \u001b[39mnot\u001b[39;00m \u001b[39mNone\u001b[39;00m:\n\u001b[1;32m     <a href='vscode-notebook-cell:/Users/smithsonarrey/Documents/CodeProjects/ML/NFL_Player_Classifier/big-data-bowl-2024-nfl-player-classifier/player_classifier.ipynb#X10sZmlsZQ%3D%3D?line=25'>26</a>\u001b[0m     \u001b[39mprint\u001b[39m(\u001b[39mf\u001b[39m\u001b[39m\"\u001b[39m\u001b[39mAverage time per game for player with nflId \u001b[39m\u001b[39m{\u001b[39;00mnflId_to_analyze_average_time\u001b[39m}\u001b[39;00m\u001b[39m: \u001b[39m\u001b[39m{\u001b[39;00maverage_time_per_game\u001b[39m:\u001b[39;00m\u001b[39m.2f\u001b[39m\u001b[39m}\u001b[39;00m\u001b[39m seconds\u001b[39m\u001b[39m\"\u001b[39m)\n",
      "\u001b[1;32m/Users/smithsonarrey/Documents/CodeProjects/ML/NFL_Player_Classifier/big-data-bowl-2024-nfl-player-classifier/player_classifier.ipynb Cell 13\u001b[0m line \u001b[0;36m1\n\u001b[1;32m     <a href='vscode-notebook-cell:/Users/smithsonarrey/Documents/CodeProjects/ML/NFL_Player_Classifier/big-data-bowl-2024-nfl-player-classifier/player_classifier.ipynb#X10sZmlsZQ%3D%3D?line=9'>10</a>\u001b[0m merged_data \u001b[39m=\u001b[39m pd\u001b[39m.\u001b[39mmerge(player_plays[[\u001b[39m'\u001b[39m\u001b[39mgameId\u001b[39m\u001b[39m'\u001b[39m, \u001b[39m'\u001b[39m\u001b[39mplayId\u001b[39m\u001b[39m'\u001b[39m]], tracking_data, on\u001b[39m=\u001b[39m[\u001b[39m'\u001b[39m\u001b[39mgameId\u001b[39m\u001b[39m'\u001b[39m, \u001b[39m'\u001b[39m\u001b[39mplayId\u001b[39m\u001b[39m'\u001b[39m], how\u001b[39m=\u001b[39m\u001b[39m'\u001b[39m\u001b[39minner\u001b[39m\u001b[39m'\u001b[39m)\n\u001b[1;32m     <a href='vscode-notebook-cell:/Users/smithsonarrey/Documents/CodeProjects/ML/NFL_Player_Classifier/big-data-bowl-2024-nfl-player-classifier/player_classifier.ipynb#X10sZmlsZQ%3D%3D?line=11'>12</a>\u001b[0m \u001b[39m# Calculate the average time the player carries the ball per game\u001b[39;00m\n\u001b[0;32m---> <a href='vscode-notebook-cell:/Users/smithsonarrey/Documents/CodeProjects/ML/NFL_Player_Classifier/big-data-bowl-2024-nfl-player-classifier/player_classifier.ipynb#X10sZmlsZQ%3D%3D?line=12'>13</a>\u001b[0m average_time_per_game \u001b[39m=\u001b[39m merged_data\u001b[39m.\u001b[39;49mgroupby(\u001b[39m'\u001b[39;49m\u001b[39mgameId\u001b[39;49m\u001b[39m'\u001b[39;49m)[\u001b[39m'\u001b[39;49m\u001b[39mtime\u001b[39;49m\u001b[39m'\u001b[39;49m]\u001b[39m.\u001b[39;49mmax()\u001b[39m.\u001b[39;49mmean()\n\u001b[1;32m     <a href='vscode-notebook-cell:/Users/smithsonarrey/Documents/CodeProjects/ML/NFL_Player_Classifier/big-data-bowl-2024-nfl-player-classifier/player_classifier.ipynb#X10sZmlsZQ%3D%3D?line=14'>15</a>\u001b[0m \u001b[39mreturn\u001b[39;00m average_time_per_game\n",
      "File \u001b[0;32m~/miniconda3/envs/nfl_player_classifier/lib/python3.11/site-packages/pandas/core/series.py:6221\u001b[0m, in \u001b[0;36mSeries.mean\u001b[0;34m(self, axis, skipna, numeric_only, **kwargs)\u001b[0m\n\u001b[1;32m   6213\u001b[0m \u001b[39m@doc\u001b[39m(make_doc(\u001b[39m\"\u001b[39m\u001b[39mmean\u001b[39m\u001b[39m\"\u001b[39m, ndim\u001b[39m=\u001b[39m\u001b[39m1\u001b[39m))\n\u001b[1;32m   6214\u001b[0m \u001b[39mdef\u001b[39;00m \u001b[39mmean\u001b[39m(\n\u001b[1;32m   6215\u001b[0m     \u001b[39mself\u001b[39m,\n\u001b[0;32m   (...)\u001b[0m\n\u001b[1;32m   6219\u001b[0m     \u001b[39m*\u001b[39m\u001b[39m*\u001b[39mkwargs,\n\u001b[1;32m   6220\u001b[0m ):\n\u001b[0;32m-> 6221\u001b[0m     \u001b[39mreturn\u001b[39;00m NDFrame\u001b[39m.\u001b[39;49mmean(\u001b[39mself\u001b[39;49m, axis, skipna, numeric_only, \u001b[39m*\u001b[39;49m\u001b[39m*\u001b[39;49mkwargs)\n",
      "File \u001b[0;32m~/miniconda3/envs/nfl_player_classifier/lib/python3.11/site-packages/pandas/core/generic.py:11978\u001b[0m, in \u001b[0;36mNDFrame.mean\u001b[0;34m(self, axis, skipna, numeric_only, **kwargs)\u001b[0m\n\u001b[1;32m  11971\u001b[0m \u001b[39mdef\u001b[39;00m \u001b[39mmean\u001b[39m(\n\u001b[1;32m  11972\u001b[0m     \u001b[39mself\u001b[39m,\n\u001b[1;32m  11973\u001b[0m     axis: Axis \u001b[39m|\u001b[39m \u001b[39mNone\u001b[39;00m \u001b[39m=\u001b[39m \u001b[39m0\u001b[39m,\n\u001b[0;32m   (...)\u001b[0m\n\u001b[1;32m  11976\u001b[0m     \u001b[39m*\u001b[39m\u001b[39m*\u001b[39mkwargs,\n\u001b[1;32m  11977\u001b[0m ) \u001b[39m-\u001b[39m\u001b[39m>\u001b[39m Series \u001b[39m|\u001b[39m \u001b[39mfloat\u001b[39m:\n\u001b[0;32m> 11978\u001b[0m     \u001b[39mreturn\u001b[39;00m \u001b[39mself\u001b[39;49m\u001b[39m.\u001b[39;49m_stat_function(\n\u001b[1;32m  11979\u001b[0m         \u001b[39m\"\u001b[39;49m\u001b[39mmean\u001b[39;49m\u001b[39m\"\u001b[39;49m, nanops\u001b[39m.\u001b[39;49mnanmean, axis, skipna, numeric_only, \u001b[39m*\u001b[39;49m\u001b[39m*\u001b[39;49mkwargs\n\u001b[1;32m  11980\u001b[0m     )\n",
      "File \u001b[0;32m~/miniconda3/envs/nfl_player_classifier/lib/python3.11/site-packages/pandas/core/generic.py:11935\u001b[0m, in \u001b[0;36mNDFrame._stat_function\u001b[0;34m(self, name, func, axis, skipna, numeric_only, **kwargs)\u001b[0m\n\u001b[1;32m  11931\u001b[0m nv\u001b[39m.\u001b[39mvalidate_func(name, (), kwargs)\n\u001b[1;32m  11933\u001b[0m validate_bool_kwarg(skipna, \u001b[39m\"\u001b[39m\u001b[39mskipna\u001b[39m\u001b[39m\"\u001b[39m, none_allowed\u001b[39m=\u001b[39m\u001b[39mFalse\u001b[39;00m)\n\u001b[0;32m> 11935\u001b[0m \u001b[39mreturn\u001b[39;00m \u001b[39mself\u001b[39;49m\u001b[39m.\u001b[39;49m_reduce(\n\u001b[1;32m  11936\u001b[0m     func, name\u001b[39m=\u001b[39;49mname, axis\u001b[39m=\u001b[39;49maxis, skipna\u001b[39m=\u001b[39;49mskipna, numeric_only\u001b[39m=\u001b[39;49mnumeric_only\n\u001b[1;32m  11937\u001b[0m )\n",
      "File \u001b[0;32m~/miniconda3/envs/nfl_player_classifier/lib/python3.11/site-packages/pandas/core/series.py:6129\u001b[0m, in \u001b[0;36mSeries._reduce\u001b[0;34m(self, op, name, axis, skipna, numeric_only, filter_type, **kwds)\u001b[0m\n\u001b[1;32m   6124\u001b[0m     \u001b[39m# GH#47500 - change to TypeError to match other methods\u001b[39;00m\n\u001b[1;32m   6125\u001b[0m     \u001b[39mraise\u001b[39;00m \u001b[39mTypeError\u001b[39;00m(\n\u001b[1;32m   6126\u001b[0m         \u001b[39mf\u001b[39m\u001b[39m\"\u001b[39m\u001b[39mSeries.\u001b[39m\u001b[39m{\u001b[39;00mname\u001b[39m}\u001b[39;00m\u001b[39m does not allow \u001b[39m\u001b[39m{\u001b[39;00mkwd_name\u001b[39m}\u001b[39;00m\u001b[39m=\u001b[39m\u001b[39m{\u001b[39;00mnumeric_only\u001b[39m}\u001b[39;00m\u001b[39m \u001b[39m\u001b[39m\"\u001b[39m\n\u001b[1;32m   6127\u001b[0m         \u001b[39m\"\u001b[39m\u001b[39mwith non-numeric dtypes.\u001b[39m\u001b[39m\"\u001b[39m\n\u001b[1;32m   6128\u001b[0m     )\n\u001b[0;32m-> 6129\u001b[0m \u001b[39mreturn\u001b[39;00m op(delegate, skipna\u001b[39m=\u001b[39;49mskipna, \u001b[39m*\u001b[39;49m\u001b[39m*\u001b[39;49mkwds)\n",
      "File \u001b[0;32m~/miniconda3/envs/nfl_player_classifier/lib/python3.11/site-packages/pandas/core/nanops.py:147\u001b[0m, in \u001b[0;36mbottleneck_switch.__call__.<locals>.f\u001b[0;34m(values, axis, skipna, **kwds)\u001b[0m\n\u001b[1;32m    145\u001b[0m         result \u001b[39m=\u001b[39m alt(values, axis\u001b[39m=\u001b[39maxis, skipna\u001b[39m=\u001b[39mskipna, \u001b[39m*\u001b[39m\u001b[39m*\u001b[39mkwds)\n\u001b[1;32m    146\u001b[0m \u001b[39melse\u001b[39;00m:\n\u001b[0;32m--> 147\u001b[0m     result \u001b[39m=\u001b[39m alt(values, axis\u001b[39m=\u001b[39;49maxis, skipna\u001b[39m=\u001b[39;49mskipna, \u001b[39m*\u001b[39;49m\u001b[39m*\u001b[39;49mkwds)\n\u001b[1;32m    149\u001b[0m \u001b[39mreturn\u001b[39;00m result\n",
      "File \u001b[0;32m~/miniconda3/envs/nfl_player_classifier/lib/python3.11/site-packages/pandas/core/nanops.py:404\u001b[0m, in \u001b[0;36m_datetimelike_compat.<locals>.new_func\u001b[0;34m(values, axis, skipna, mask, **kwargs)\u001b[0m\n\u001b[1;32m    401\u001b[0m \u001b[39mif\u001b[39;00m datetimelike \u001b[39mand\u001b[39;00m mask \u001b[39mis\u001b[39;00m \u001b[39mNone\u001b[39;00m:\n\u001b[1;32m    402\u001b[0m     mask \u001b[39m=\u001b[39m isna(values)\n\u001b[0;32m--> 404\u001b[0m result \u001b[39m=\u001b[39m func(values, axis\u001b[39m=\u001b[39;49maxis, skipna\u001b[39m=\u001b[39;49mskipna, mask\u001b[39m=\u001b[39;49mmask, \u001b[39m*\u001b[39;49m\u001b[39m*\u001b[39;49mkwargs)\n\u001b[1;32m    406\u001b[0m \u001b[39mif\u001b[39;00m datetimelike:\n\u001b[1;32m    407\u001b[0m     result \u001b[39m=\u001b[39m _wrap_results(result, orig_values\u001b[39m.\u001b[39mdtype, fill_value\u001b[39m=\u001b[39miNaT)\n",
      "File \u001b[0;32m~/miniconda3/envs/nfl_player_classifier/lib/python3.11/site-packages/pandas/core/nanops.py:720\u001b[0m, in \u001b[0;36mnanmean\u001b[0;34m(values, axis, skipna, mask)\u001b[0m\n\u001b[1;32m    718\u001b[0m count \u001b[39m=\u001b[39m _get_counts(values\u001b[39m.\u001b[39mshape, mask, axis, dtype\u001b[39m=\u001b[39mdtype_count)\n\u001b[1;32m    719\u001b[0m the_sum \u001b[39m=\u001b[39m values\u001b[39m.\u001b[39msum(axis, dtype\u001b[39m=\u001b[39mdtype_sum)\n\u001b[0;32m--> 720\u001b[0m the_sum \u001b[39m=\u001b[39m _ensure_numeric(the_sum)\n\u001b[1;32m    722\u001b[0m \u001b[39mif\u001b[39;00m axis \u001b[39mis\u001b[39;00m \u001b[39mnot\u001b[39;00m \u001b[39mNone\u001b[39;00m \u001b[39mand\u001b[39;00m \u001b[39mgetattr\u001b[39m(the_sum, \u001b[39m\"\u001b[39m\u001b[39mndim\u001b[39m\u001b[39m\"\u001b[39m, \u001b[39mFalse\u001b[39;00m):\n\u001b[1;32m    723\u001b[0m     count \u001b[39m=\u001b[39m cast(np\u001b[39m.\u001b[39mndarray, count)\n",
      "File \u001b[0;32m~/miniconda3/envs/nfl_player_classifier/lib/python3.11/site-packages/pandas/core/nanops.py:1693\u001b[0m, in \u001b[0;36m_ensure_numeric\u001b[0;34m(x)\u001b[0m\n\u001b[1;32m   1690\u001b[0m \u001b[39melif\u001b[39;00m \u001b[39mnot\u001b[39;00m (is_float(x) \u001b[39mor\u001b[39;00m is_integer(x) \u001b[39mor\u001b[39;00m is_complex(x)):\n\u001b[1;32m   1691\u001b[0m     \u001b[39mif\u001b[39;00m \u001b[39misinstance\u001b[39m(x, \u001b[39mstr\u001b[39m):\n\u001b[1;32m   1692\u001b[0m         \u001b[39m# GH#44008, GH#36703 avoid casting e.g. strings to numeric\u001b[39;00m\n\u001b[0;32m-> 1693\u001b[0m         \u001b[39mraise\u001b[39;00m \u001b[39mTypeError\u001b[39;00m(\u001b[39mf\u001b[39m\u001b[39m\"\u001b[39m\u001b[39mCould not convert string \u001b[39m\u001b[39m'\u001b[39m\u001b[39m{\u001b[39;00mx\u001b[39m}\u001b[39;00m\u001b[39m'\u001b[39m\u001b[39m to numeric\u001b[39m\u001b[39m\"\u001b[39m)\n\u001b[1;32m   1694\u001b[0m     \u001b[39mtry\u001b[39;00m:\n\u001b[1;32m   1695\u001b[0m         x \u001b[39m=\u001b[39m \u001b[39mfloat\u001b[39m(x)\n",
      "\u001b[0;31mTypeError\u001b[0m: Could not convert string '2022-11-07 21:08:32.799999' to numeric"
     ]
    }
   ],
   "source": [
    "def calculate_average_time_per_game(play_data, tracking_data, ball_carrier_id):\n",
    "    # Filter play data for plays where the specified player is the ball carrier\n",
    "    player_plays = play_data[play_data['ballCarrierId'] == ball_carrier_id]\n",
    "\n",
    "    if len(player_plays) == 0:\n",
    "        print(f\"Player with nflId {ball_carrier_id} not found in the play data.\")\n",
    "        return None\n",
    "\n",
    "    # Merge play data with tracking data to get the corresponding gameId and playId\n",
    "    merged_data = pd.merge(player_plays[['gameId', 'playId']], tracking_data, on=['gameId', 'playId'], how='inner')\n",
    "\n",
    "    # Calculate the average time the player carries the ball per game\n",
    "    average_time_per_game = merged_data.groupby('gameId')['time'].max().mean()\n",
    "\n",
    "    return average_time_per_game\n",
    "\n",
    "# Example usage:\n",
    "# Assuming you have loaded the play data into a DataFrame named 'plays_data'\n",
    "# and the tracking data into a DataFrame named 'tracking_data'\n",
    "\n",
    "# Replace 'your_nflId_here' with the actual nflId of the player you want to analyze\n",
    "nflId_to_analyze_average_time = 33130\n",
    "\n",
    "average_time_per_game = calculate_average_time_per_game(plays_data, tracking_data_all_weeks, nflId_to_analyze_average_time)\n",
    "if average_time_per_game is not None:\n",
    "    print(f\"Average time per game for player with nflId {nflId_to_analyze_average_time}: {average_time_per_game:.2f} seconds\")\n"
   ]
  },
  {
   "cell_type": "code",
   "execution_count": 42,
   "metadata": {
    "collapsed": false,
    "jupyter": {
     "outputs_hidden": false
    }
   },
   "outputs": [
    {
     "ename": "KeyError",
     "evalue": "'passer_player_id'",
     "output_type": "error",
     "traceback": [
      "\u001b[0;31m---------------------------------------------------------------------------\u001b[0m",
      "\u001b[0;31mKeyError\u001b[0m                                  Traceback (most recent call last)",
      "File \u001b[0;32m~/miniconda3/envs/nfl_player_classifier/lib/python3.11/site-packages/pandas/core/indexes/base.py:3790\u001b[0m, in \u001b[0;36mIndex.get_loc\u001b[0;34m(self, key)\u001b[0m\n\u001b[1;32m   3789\u001b[0m \u001b[39mtry\u001b[39;00m:\n\u001b[0;32m-> 3790\u001b[0m     \u001b[39mreturn\u001b[39;00m \u001b[39mself\u001b[39;49m\u001b[39m.\u001b[39;49m_engine\u001b[39m.\u001b[39;49mget_loc(casted_key)\n\u001b[1;32m   3791\u001b[0m \u001b[39mexcept\u001b[39;00m \u001b[39mKeyError\u001b[39;00m \u001b[39mas\u001b[39;00m err:\n",
      "File \u001b[0;32mindex.pyx:152\u001b[0m, in \u001b[0;36mpandas._libs.index.IndexEngine.get_loc\u001b[0;34m()\u001b[0m\n",
      "File \u001b[0;32mindex.pyx:181\u001b[0m, in \u001b[0;36mpandas._libs.index.IndexEngine.get_loc\u001b[0;34m()\u001b[0m\n",
      "File \u001b[0;32mpandas/_libs/hashtable_class_helper.pxi:7080\u001b[0m, in \u001b[0;36mpandas._libs.hashtable.PyObjectHashTable.get_item\u001b[0;34m()\u001b[0m\n",
      "File \u001b[0;32mpandas/_libs/hashtable_class_helper.pxi:7088\u001b[0m, in \u001b[0;36mpandas._libs.hashtable.PyObjectHashTable.get_item\u001b[0;34m()\u001b[0m\n",
      "\u001b[0;31mKeyError\u001b[0m: 'passer_player_id'",
      "\nThe above exception was the direct cause of the following exception:\n",
      "\u001b[0;31mKeyError\u001b[0m                                  Traceback (most recent call last)",
      "\u001b[1;32m/Users/smithsonarrey/Documents/CodeProjects/ML/NFL_Player_Classifier/big-data-bowl-2024-nfl-player-classifier/player_classifier.ipynb Cell 14\u001b[0m line \u001b[0;36m1\n\u001b[1;32m     <a href='vscode-notebook-cell:/Users/smithsonarrey/Documents/CodeProjects/ML/NFL_Player_Classifier/big-data-bowl-2024-nfl-player-classifier/player_classifier.ipynb#X11sZmlsZQ%3D%3D?line=9'>10</a>\u001b[0m \u001b[39m# Example usage:\u001b[39;00m\n\u001b[1;32m     <a href='vscode-notebook-cell:/Users/smithsonarrey/Documents/CodeProjects/ML/NFL_Player_Classifier/big-data-bowl-2024-nfl-player-classifier/player_classifier.ipynb#X11sZmlsZQ%3D%3D?line=10'>11</a>\u001b[0m \u001b[39m# Assuming you have loaded the play data into a DataFrame named 'plays_data'\u001b[39;00m\n\u001b[1;32m     <a href='vscode-notebook-cell:/Users/smithsonarrey/Documents/CodeProjects/ML/NFL_Player_Classifier/big-data-bowl-2024-nfl-player-classifier/player_classifier.ipynb#X11sZmlsZQ%3D%3D?line=11'>12</a>\u001b[0m \n\u001b[1;32m     <a href='vscode-notebook-cell:/Users/smithsonarrey/Documents/CodeProjects/ML/NFL_Player_Classifier/big-data-bowl-2024-nfl-player-classifier/player_classifier.ipynb#X11sZmlsZQ%3D%3D?line=12'>13</a>\u001b[0m \u001b[39m# Replace 'your_passerId_here' with the actual passer_player_id of the player you want to analyze\u001b[39;00m\n\u001b[1;32m     <a href='vscode-notebook-cell:/Users/smithsonarrey/Documents/CodeProjects/ML/NFL_Player_Classifier/big-data-bowl-2024-nfl-player-classifier/player_classifier.ipynb#X11sZmlsZQ%3D%3D?line=13'>14</a>\u001b[0m passerId_to_analyze_passes_thrown \u001b[39m=\u001b[39m \u001b[39m25511\u001b[39m\t  \n\u001b[0;32m---> <a href='vscode-notebook-cell:/Users/smithsonarrey/Documents/CodeProjects/ML/NFL_Player_Classifier/big-data-bowl-2024-nfl-player-classifier/player_classifier.ipynb#X11sZmlsZQ%3D%3D?line=15'>16</a>\u001b[0m passes_thrown_count \u001b[39m=\u001b[39m count_passes_thrown(plays_data, passerId_to_analyze_passes_thrown)\n\u001b[1;32m     <a href='vscode-notebook-cell:/Users/smithsonarrey/Documents/CodeProjects/ML/NFL_Player_Classifier/big-data-bowl-2024-nfl-player-classifier/player_classifier.ipynb#X11sZmlsZQ%3D%3D?line=16'>17</a>\u001b[0m \u001b[39mprint\u001b[39m(\u001b[39mf\u001b[39m\u001b[39m\"\u001b[39m\u001b[39mNumber of passes thrown by player with passer_player_id \u001b[39m\u001b[39m{\u001b[39;00mpasserId_to_analyze_passes_thrown\u001b[39m}\u001b[39;00m\u001b[39m: \u001b[39m\u001b[39m{\u001b[39;00mpasses_thrown_count\u001b[39m}\u001b[39;00m\u001b[39m\"\u001b[39m)\n",
      "\u001b[1;32m/Users/smithsonarrey/Documents/CodeProjects/ML/NFL_Player_Classifier/big-data-bowl-2024-nfl-player-classifier/player_classifier.ipynb Cell 14\u001b[0m line \u001b[0;36m3\n\u001b[1;32m      <a href='vscode-notebook-cell:/Users/smithsonarrey/Documents/CodeProjects/ML/NFL_Player_Classifier/big-data-bowl-2024-nfl-player-classifier/player_classifier.ipynb#X11sZmlsZQ%3D%3D?line=0'>1</a>\u001b[0m \u001b[39mdef\u001b[39;00m \u001b[39mcount_passes_thrown\u001b[39m(play_data, passer_id):\n\u001b[1;32m      <a href='vscode-notebook-cell:/Users/smithsonarrey/Documents/CodeProjects/ML/NFL_Player_Classifier/big-data-bowl-2024-nfl-player-classifier/player_classifier.ipynb#X11sZmlsZQ%3D%3D?line=1'>2</a>\u001b[0m     \u001b[39m# Filter play data for passes thrown where the specified player is the passer\u001b[39;00m\n\u001b[0;32m----> <a href='vscode-notebook-cell:/Users/smithsonarrey/Documents/CodeProjects/ML/NFL_Player_Classifier/big-data-bowl-2024-nfl-player-classifier/player_classifier.ipynb#X11sZmlsZQ%3D%3D?line=2'>3</a>\u001b[0m     player_passes_thrown \u001b[39m=\u001b[39m play_data[(play_data[\u001b[39m'\u001b[39m\u001b[39mpassResult\u001b[39m\u001b[39m'\u001b[39m] \u001b[39m==\u001b[39m \u001b[39m'\u001b[39m\u001b[39mC\u001b[39m\u001b[39m'\u001b[39m) \u001b[39m&\u001b[39m (play_data[\u001b[39m'\u001b[39;49m\u001b[39mpasser_player_id\u001b[39;49m\u001b[39m'\u001b[39;49m] \u001b[39m==\u001b[39m passer_id)]\n\u001b[1;32m      <a href='vscode-notebook-cell:/Users/smithsonarrey/Documents/CodeProjects/ML/NFL_Player_Classifier/big-data-bowl-2024-nfl-player-classifier/player_classifier.ipynb#X11sZmlsZQ%3D%3D?line=4'>5</a>\u001b[0m     \u001b[39m# Count the number of passes thrown\u001b[39;00m\n\u001b[1;32m      <a href='vscode-notebook-cell:/Users/smithsonarrey/Documents/CodeProjects/ML/NFL_Player_Classifier/big-data-bowl-2024-nfl-player-classifier/player_classifier.ipynb#X11sZmlsZQ%3D%3D?line=5'>6</a>\u001b[0m     num_passes_thrown \u001b[39m=\u001b[39m \u001b[39mlen\u001b[39m(player_passes_thrown)\n",
      "File \u001b[0;32m~/miniconda3/envs/nfl_player_classifier/lib/python3.11/site-packages/pandas/core/frame.py:3896\u001b[0m, in \u001b[0;36mDataFrame.__getitem__\u001b[0;34m(self, key)\u001b[0m\n\u001b[1;32m   3894\u001b[0m \u001b[39mif\u001b[39;00m \u001b[39mself\u001b[39m\u001b[39m.\u001b[39mcolumns\u001b[39m.\u001b[39mnlevels \u001b[39m>\u001b[39m \u001b[39m1\u001b[39m:\n\u001b[1;32m   3895\u001b[0m     \u001b[39mreturn\u001b[39;00m \u001b[39mself\u001b[39m\u001b[39m.\u001b[39m_getitem_multilevel(key)\n\u001b[0;32m-> 3896\u001b[0m indexer \u001b[39m=\u001b[39m \u001b[39mself\u001b[39;49m\u001b[39m.\u001b[39;49mcolumns\u001b[39m.\u001b[39;49mget_loc(key)\n\u001b[1;32m   3897\u001b[0m \u001b[39mif\u001b[39;00m is_integer(indexer):\n\u001b[1;32m   3898\u001b[0m     indexer \u001b[39m=\u001b[39m [indexer]\n",
      "File \u001b[0;32m~/miniconda3/envs/nfl_player_classifier/lib/python3.11/site-packages/pandas/core/indexes/base.py:3797\u001b[0m, in \u001b[0;36mIndex.get_loc\u001b[0;34m(self, key)\u001b[0m\n\u001b[1;32m   3792\u001b[0m     \u001b[39mif\u001b[39;00m \u001b[39misinstance\u001b[39m(casted_key, \u001b[39mslice\u001b[39m) \u001b[39mor\u001b[39;00m (\n\u001b[1;32m   3793\u001b[0m         \u001b[39misinstance\u001b[39m(casted_key, abc\u001b[39m.\u001b[39mIterable)\n\u001b[1;32m   3794\u001b[0m         \u001b[39mand\u001b[39;00m \u001b[39many\u001b[39m(\u001b[39misinstance\u001b[39m(x, \u001b[39mslice\u001b[39m) \u001b[39mfor\u001b[39;00m x \u001b[39min\u001b[39;00m casted_key)\n\u001b[1;32m   3795\u001b[0m     ):\n\u001b[1;32m   3796\u001b[0m         \u001b[39mraise\u001b[39;00m InvalidIndexError(key)\n\u001b[0;32m-> 3797\u001b[0m     \u001b[39mraise\u001b[39;00m \u001b[39mKeyError\u001b[39;00m(key) \u001b[39mfrom\u001b[39;00m \u001b[39merr\u001b[39;00m\n\u001b[1;32m   3798\u001b[0m \u001b[39mexcept\u001b[39;00m \u001b[39mTypeError\u001b[39;00m:\n\u001b[1;32m   3799\u001b[0m     \u001b[39m# If we have a listlike key, _check_indexing_error will raise\u001b[39;00m\n\u001b[1;32m   3800\u001b[0m     \u001b[39m#  InvalidIndexError. Otherwise we fall through and re-raise\u001b[39;00m\n\u001b[1;32m   3801\u001b[0m     \u001b[39m#  the TypeError.\u001b[39;00m\n\u001b[1;32m   3802\u001b[0m     \u001b[39mself\u001b[39m\u001b[39m.\u001b[39m_check_indexing_error(key)\n",
      "\u001b[0;31mKeyError\u001b[0m: 'passer_player_id'"
     ]
    }
   ],
   "source": [
    "def count_passes_thrown(play_data, passer_id):\n",
    "    # Filter play data for passes thrown where the specified player is the passer\n",
    "    player_passes_thrown = play_data[(play_data['passResult'] == 'C') & (play_data['passer_player_id'] == passer_id)]\n",
    "\n",
    "    # Count the number of passes thrown\n",
    "    num_passes_thrown = len(player_passes_thrown)\n",
    "\n",
    "    return num_passes_thrown\n",
    "\n",
    "# Example usage:\n",
    "# Assuming you have loaded the play data into a DataFrame named 'plays_data'\n",
    "\n",
    "# Replace 'your_passerId_here' with the actual passer_player_id of the player you want to analyze\n",
    "passerId_to_analyze_passes_thrown = 25511\t  \n",
    "\n",
    "passes_thrown_count = count_passes_thrown(plays_data, passerId_to_analyze_passes_thrown)\n",
    "print(f\"Number of passes thrown by player with passer_player_id {passerId_to_analyze_passes_thrown}: {passes_thrown_count}\")\n"
   ]
  }
 ],
 "metadata": {
  "kernelspec": {
   "display_name": "Python 3 (ipykernel)",
   "language": "python",
   "name": "python3"
  },
  "language_info": {
   "codemirror_mode": {
    "name": "ipython",
    "version": 3
   },
   "file_extension": ".py",
   "mimetype": "text/x-python",
   "name": "python",
   "nbconvert_exporter": "python",
   "pygments_lexer": "ipython3",
   "version": "3.11.5"
  }
 },
 "nbformat": 4,
 "nbformat_minor": 4
}
